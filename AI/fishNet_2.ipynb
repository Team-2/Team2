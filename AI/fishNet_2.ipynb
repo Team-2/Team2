{
  "nbformat": 4,
  "nbformat_minor": 0,
  "metadata": {
    "colab": {
      "name": "fishNet.ipynb",
      "provenance": []
    },
    "kernelspec": {
      "name": "python3",
      "display_name": "Python 3"
    },
    "language_info": {
      "name": "python"
    }
  },
  "cells": [
    {
      "cell_type": "code",
      "metadata": {
        "id": "C1BXbxk7r8EN"
      },
      "source": [
        "!cp \"/content/drive/MyDrive/Colab Notebooks/Hac2021/best_data1.zip\" \"/content/\"\n",
        "import zipfile\n",
        "z = zipfile.ZipFile(\"./best_data1.zip\")\n",
        "z.extractall(\"./\")"
      ],
      "execution_count": 17,
      "outputs": []
    },
    {
      "cell_type": "code",
      "metadata": {
        "id": "1iVFTxOjZ-Ji"
      },
      "source": [
        "import pandas as pd \n",
        "import numpy as np \n",
        "import datetime as dt\n",
        "import math\n",
        "from datetime import datetime\n",
        "from collections import Counter"
      ],
      "execution_count": 18,
      "outputs": []
    },
    {
      "cell_type": "code",
      "metadata": {
        "id": "0zZlAX3YLGh5"
      },
      "source": [
        "data=pd.read_csv(\"best_data1.csv\").dropna().drop([\"ship\",\"Unnamed: 0\"],axis=1)"
      ],
      "execution_count": 19,
      "outputs": []
    },
    {
      "cell_type": "code",
      "metadata": {
        "colab": {
          "base_uri": "https://localhost:8080/",
          "height": 399
        },
        "id": "gHnjuspBIE4H",
        "outputId": "902f32bd-786c-4db5-8d4d-2c1b1ceb81c7"
      },
      "source": [
        "data"
      ],
      "execution_count": 24,
      "outputs": [
        {
          "output_type": "execute_result",
          "data": {
            "text/html": [
              "<div>\n",
              "<style scoped>\n",
              "    .dataframe tbody tr th:only-of-type {\n",
              "        vertical-align: middle;\n",
              "    }\n",
              "\n",
              "    .dataframe tbody tr th {\n",
              "        vertical-align: top;\n",
              "    }\n",
              "\n",
              "    .dataframe thead th {\n",
              "        text-align: right;\n",
              "    }\n",
              "</style>\n",
              "<table border=\"1\" class=\"dataframe\">\n",
              "  <thead>\n",
              "    <tr style=\"text-align: right;\">\n",
              "      <th></th>\n",
              "      <th>record</th>\n",
              "      <th>latitude</th>\n",
              "      <th>longitude</th>\n",
              "      <th>course</th>\n",
              "      <th>velocity</th>\n",
              "      <th>sure_tral</th>\n",
              "      <th>time_in_sec</th>\n",
              "      <th>distance</th>\n",
              "      <th>delta_time</th>\n",
              "      <th>linear_speed</th>\n",
              "    </tr>\n",
              "  </thead>\n",
              "  <tbody>\n",
              "    <tr>\n",
              "      <th>0</th>\n",
              "      <td>1</td>\n",
              "      <td>-0.000009</td>\n",
              "      <td>-0.000048</td>\n",
              "      <td>269</td>\n",
              "      <td>0.0</td>\n",
              "      <td>0</td>\n",
              "      <td>1821</td>\n",
              "      <td>0.000000</td>\n",
              "      <td>1821</td>\n",
              "      <td>0.000000</td>\n",
              "    </tr>\n",
              "    <tr>\n",
              "      <th>1</th>\n",
              "      <td>1</td>\n",
              "      <td>0.000021</td>\n",
              "      <td>0.000012</td>\n",
              "      <td>245</td>\n",
              "      <td>0.0</td>\n",
              "      <td>0</td>\n",
              "      <td>5381</td>\n",
              "      <td>5.466741</td>\n",
              "      <td>3560</td>\n",
              "      <td>0.001536</td>\n",
              "    </tr>\n",
              "    <tr>\n",
              "      <th>2</th>\n",
              "      <td>1</td>\n",
              "      <td>0.000001</td>\n",
              "      <td>0.000002</td>\n",
              "      <td>288</td>\n",
              "      <td>0.0</td>\n",
              "      <td>0</td>\n",
              "      <td>8780</td>\n",
              "      <td>2.684734</td>\n",
              "      <td>3399</td>\n",
              "      <td>0.000790</td>\n",
              "    </tr>\n",
              "    <tr>\n",
              "      <th>3</th>\n",
              "      <td>1</td>\n",
              "      <td>-0.000009</td>\n",
              "      <td>-0.000018</td>\n",
              "      <td>207</td>\n",
              "      <td>0.0</td>\n",
              "      <td>0</td>\n",
              "      <td>13751</td>\n",
              "      <td>0.231358</td>\n",
              "      <td>4971</td>\n",
              "      <td>0.000047</td>\n",
              "    </tr>\n",
              "    <tr>\n",
              "      <th>4</th>\n",
              "      <td>1</td>\n",
              "      <td>0.000041</td>\n",
              "      <td>0.000002</td>\n",
              "      <td>112</td>\n",
              "      <td>0.0</td>\n",
              "      <td>0</td>\n",
              "      <td>16170</td>\n",
              "      <td>2.258584</td>\n",
              "      <td>2419</td>\n",
              "      <td>0.000934</td>\n",
              "    </tr>\n",
              "    <tr>\n",
              "      <th>...</th>\n",
              "      <td>...</td>\n",
              "      <td>...</td>\n",
              "      <td>...</td>\n",
              "      <td>...</td>\n",
              "      <td>...</td>\n",
              "      <td>...</td>\n",
              "      <td>...</td>\n",
              "      <td>...</td>\n",
              "      <td>...</td>\n",
              "      <td>...</td>\n",
              "    </tr>\n",
              "    <tr>\n",
              "      <th>4064014</th>\n",
              "      <td>34016</td>\n",
              "      <td>-0.016272</td>\n",
              "      <td>-0.016575</td>\n",
              "      <td>237</td>\n",
              "      <td>1.8</td>\n",
              "      <td>1</td>\n",
              "      <td>36030</td>\n",
              "      <td>5099.340099</td>\n",
              "      <td>3300</td>\n",
              "      <td>1.545255</td>\n",
              "    </tr>\n",
              "    <tr>\n",
              "      <th>4064015</th>\n",
              "      <td>34016</td>\n",
              "      <td>-0.012402</td>\n",
              "      <td>-0.037935</td>\n",
              "      <td>29</td>\n",
              "      <td>0.6</td>\n",
              "      <td>1</td>\n",
              "      <td>39939</td>\n",
              "      <td>2577.213083</td>\n",
              "      <td>3909</td>\n",
              "      <td>0.659302</td>\n",
              "    </tr>\n",
              "    <tr>\n",
              "      <th>4064016</th>\n",
              "      <td>34016</td>\n",
              "      <td>-0.012662</td>\n",
              "      <td>-0.049995</td>\n",
              "      <td>26</td>\n",
              "      <td>0.5</td>\n",
              "      <td>1</td>\n",
              "      <td>43520</td>\n",
              "      <td>4440.036232</td>\n",
              "      <td>3581</td>\n",
              "      <td>1.239887</td>\n",
              "    </tr>\n",
              "    <tr>\n",
              "      <th>4064017</th>\n",
              "      <td>34016</td>\n",
              "      <td>-0.010222</td>\n",
              "      <td>-0.038395</td>\n",
              "      <td>85</td>\n",
              "      <td>8.4</td>\n",
              "      <td>1</td>\n",
              "      <td>47130</td>\n",
              "      <td>5738.873985</td>\n",
              "      <td>3610</td>\n",
              "      <td>1.589716</td>\n",
              "    </tr>\n",
              "    <tr>\n",
              "      <th>4064018</th>\n",
              "      <td>34016</td>\n",
              "      <td>0.001658</td>\n",
              "      <td>0.030515</td>\n",
              "      <td>285</td>\n",
              "      <td>7.0</td>\n",
              "      <td>1</td>\n",
              "      <td>49699</td>\n",
              "      <td>4421.086436</td>\n",
              "      <td>2569</td>\n",
              "      <td>1.720937</td>\n",
              "    </tr>\n",
              "  </tbody>\n",
              "</table>\n",
              "<p>4064019 rows × 10 columns</p>\n",
              "</div>"
            ],
            "text/plain": [
              "         record  latitude  longitude  ...     distance  delta_time  linear_speed\n",
              "0             1 -0.000009  -0.000048  ...     0.000000        1821      0.000000\n",
              "1             1  0.000021   0.000012  ...     5.466741        3560      0.001536\n",
              "2             1  0.000001   0.000002  ...     2.684734        3399      0.000790\n",
              "3             1 -0.000009  -0.000018  ...     0.231358        4971      0.000047\n",
              "4             1  0.000041   0.000002  ...     2.258584        2419      0.000934\n",
              "...         ...       ...        ...  ...          ...         ...           ...\n",
              "4064014   34016 -0.016272  -0.016575  ...  5099.340099        3300      1.545255\n",
              "4064015   34016 -0.012402  -0.037935  ...  2577.213083        3909      0.659302\n",
              "4064016   34016 -0.012662  -0.049995  ...  4440.036232        3581      1.239887\n",
              "4064017   34016 -0.010222  -0.038395  ...  5738.873985        3610      1.589716\n",
              "4064018   34016  0.001658   0.030515  ...  4421.086436        2569      1.720937\n",
              "\n",
              "[4064019 rows x 10 columns]"
            ]
          },
          "metadata": {},
          "execution_count": 24
        }
      ]
    },
    {
      "cell_type": "code",
      "metadata": {
        "id": "Q3SSpIzGYrmJ"
      },
      "source": [
        "points=dict(zip(data.record,data.sure_tral))"
      ],
      "execution_count": 5,
      "outputs": []
    },
    {
      "cell_type": "code",
      "metadata": {
        "colab": {
          "base_uri": "https://localhost:8080/"
        },
        "id": "ZvUJVBTV_l9q",
        "outputId": "843b7dd0-bd7d-4525-f90f-963577c7e1ee"
      },
      "source": [
        "list(points.values()).count(0)"
      ],
      "execution_count": 49,
      "outputs": [
        {
          "output_type": "execute_result",
          "data": {
            "text/plain": [
              "27054"
            ]
          },
          "metadata": {},
          "execution_count": 49
        }
      ]
    },
    {
      "cell_type": "code",
      "metadata": {
        "colab": {
          "base_uri": "https://localhost:8080/"
        },
        "id": "FPsXsjqAAzvm",
        "outputId": "bb7fd521-cc9a-4aad-9fc2-e7465b582e33"
      },
      "source": [
        "list(points.values()).count(1)"
      ],
      "execution_count": 50,
      "outputs": [
        {
          "output_type": "execute_result",
          "data": {
            "text/plain": [
              "1884"
            ]
          },
          "metadata": {},
          "execution_count": 50
        }
      ]
    },
    {
      "cell_type": "code",
      "metadata": {
        "id": "JjTwGh9teIU6",
        "colab": {
          "base_uri": "https://localhost:8080/",
          "height": 346
        },
        "outputId": "59cabbc5-6378-4432-ff10-046829caff5b"
      },
      "source": [
        "days=list(set(np.array(data.record)))\n",
        "data_tensors=[]\n",
        "for day in days:\n",
        "  data_tensors+=[np.array(data[data.record==day].drop(['record'], axis = 1),\"float64\")]"
      ],
      "execution_count": 51,
      "outputs": [
        {
          "output_type": "error",
          "ename": "AttributeError",
          "evalue": "ignored",
          "traceback": [
            "\u001b[0;31m---------------------------------------------------------------------------\u001b[0m",
            "\u001b[0;31mAttributeError\u001b[0m                            Traceback (most recent call last)",
            "\u001b[0;32m<ipython-input-51-20929f76e70b>\u001b[0m in \u001b[0;36m<module>\u001b[0;34m()\u001b[0m\n\u001b[0;32m----> 1\u001b[0;31m \u001b[0mdays\u001b[0m\u001b[0;34m=\u001b[0m\u001b[0mlist\u001b[0m\u001b[0;34m(\u001b[0m\u001b[0mset\u001b[0m\u001b[0;34m(\u001b[0m\u001b[0mnp\u001b[0m\u001b[0;34m.\u001b[0m\u001b[0marray\u001b[0m\u001b[0;34m(\u001b[0m\u001b[0mdata\u001b[0m\u001b[0;34m.\u001b[0m\u001b[0mrecord\u001b[0m\u001b[0;34m)\u001b[0m\u001b[0;34m)\u001b[0m\u001b[0;34m)\u001b[0m\u001b[0;34m\u001b[0m\u001b[0;34m\u001b[0m\u001b[0m\n\u001b[0m\u001b[1;32m      2\u001b[0m \u001b[0mdata_tensors\u001b[0m\u001b[0;34m=\u001b[0m\u001b[0;34m[\u001b[0m\u001b[0;34m]\u001b[0m\u001b[0;34m\u001b[0m\u001b[0;34m\u001b[0m\u001b[0m\n\u001b[1;32m      3\u001b[0m \u001b[0;32mfor\u001b[0m \u001b[0mday\u001b[0m \u001b[0;32min\u001b[0m \u001b[0mdays\u001b[0m\u001b[0;34m:\u001b[0m\u001b[0;34m\u001b[0m\u001b[0;34m\u001b[0m\u001b[0m\n\u001b[1;32m      4\u001b[0m   \u001b[0mdata_tensors\u001b[0m\u001b[0;34m+=\u001b[0m\u001b[0;34m[\u001b[0m\u001b[0mnp\u001b[0m\u001b[0;34m.\u001b[0m\u001b[0marray\u001b[0m\u001b[0;34m(\u001b[0m\u001b[0mdata\u001b[0m\u001b[0;34m[\u001b[0m\u001b[0mdata\u001b[0m\u001b[0;34m.\u001b[0m\u001b[0mrecord\u001b[0m\u001b[0;34m==\u001b[0m\u001b[0mday\u001b[0m\u001b[0;34m]\u001b[0m\u001b[0;34m.\u001b[0m\u001b[0mdrop\u001b[0m\u001b[0;34m(\u001b[0m\u001b[0;34m[\u001b[0m\u001b[0;34m'record'\u001b[0m\u001b[0;34m]\u001b[0m\u001b[0;34m,\u001b[0m \u001b[0maxis\u001b[0m \u001b[0;34m=\u001b[0m \u001b[0;36m1\u001b[0m\u001b[0;34m)\u001b[0m\u001b[0;34m,\u001b[0m\u001b[0;34m\"float64\"\u001b[0m\u001b[0;34m)\u001b[0m\u001b[0;34m]\u001b[0m\u001b[0;34m\u001b[0m\u001b[0;34m\u001b[0m\u001b[0m\n",
            "\u001b[0;32m/usr/local/lib/python3.7/dist-packages/pandas/core/generic.py\u001b[0m in \u001b[0;36m__getattr__\u001b[0;34m(self, name)\u001b[0m\n\u001b[1;32m   5139\u001b[0m             \u001b[0;32mif\u001b[0m \u001b[0mself\u001b[0m\u001b[0;34m.\u001b[0m\u001b[0m_info_axis\u001b[0m\u001b[0;34m.\u001b[0m\u001b[0m_can_hold_identifiers_and_holds_name\u001b[0m\u001b[0;34m(\u001b[0m\u001b[0mname\u001b[0m\u001b[0;34m)\u001b[0m\u001b[0;34m:\u001b[0m\u001b[0;34m\u001b[0m\u001b[0;34m\u001b[0m\u001b[0m\n\u001b[1;32m   5140\u001b[0m                 \u001b[0;32mreturn\u001b[0m \u001b[0mself\u001b[0m\u001b[0;34m[\u001b[0m\u001b[0mname\u001b[0m\u001b[0;34m]\u001b[0m\u001b[0;34m\u001b[0m\u001b[0;34m\u001b[0m\u001b[0m\n\u001b[0;32m-> 5141\u001b[0;31m             \u001b[0;32mreturn\u001b[0m \u001b[0mobject\u001b[0m\u001b[0;34m.\u001b[0m\u001b[0m__getattribute__\u001b[0m\u001b[0;34m(\u001b[0m\u001b[0mself\u001b[0m\u001b[0;34m,\u001b[0m \u001b[0mname\u001b[0m\u001b[0;34m)\u001b[0m\u001b[0;34m\u001b[0m\u001b[0;34m\u001b[0m\u001b[0m\n\u001b[0m\u001b[1;32m   5142\u001b[0m \u001b[0;34m\u001b[0m\u001b[0m\n\u001b[1;32m   5143\u001b[0m     \u001b[0;32mdef\u001b[0m \u001b[0m__setattr__\u001b[0m\u001b[0;34m(\u001b[0m\u001b[0mself\u001b[0m\u001b[0;34m,\u001b[0m \u001b[0mname\u001b[0m\u001b[0;34m:\u001b[0m \u001b[0mstr\u001b[0m\u001b[0;34m,\u001b[0m \u001b[0mvalue\u001b[0m\u001b[0;34m)\u001b[0m \u001b[0;34m->\u001b[0m \u001b[0;32mNone\u001b[0m\u001b[0;34m:\u001b[0m\u001b[0;34m\u001b[0m\u001b[0;34m\u001b[0m\u001b[0m\n",
            "\u001b[0;31mAttributeError\u001b[0m: 'DataFrame' object has no attribute 'record'"
          ]
        }
      ]
    },
    {
      "cell_type": "code",
      "metadata": {
        "id": "Zo8lHqQr-vgG"
      },
      "source": [
        "from sklearn.ensemble import RandomForestClassifier"
      ],
      "execution_count": 6,
      "outputs": []
    },
    {
      "cell_type": "code",
      "metadata": {
        "id": "UvRtpEn5HdmB"
      },
      "source": [
        "data[['course', 'velocity']] = data[['course', 'velocity']].fillna(value=0)\n",
        "data[['course', 'velocity']] = data[['course', 'velocity']].replace(np.nan, 0)\n",
        "data[['course', 'velocity']] = data[['course', 'velocity']].replace('None', 0)"
      ],
      "execution_count": 28,
      "outputs": []
    },
    {
      "cell_type": "code",
      "metadata": {
        "id": "g7VetX9RHtWd"
      },
      "source": [
        ""
      ],
      "execution_count": 73,
      "outputs": []
    },
    {
      "cell_type": "code",
      "metadata": {
        "colab": {
          "base_uri": "https://localhost:8080/"
        },
        "id": "FkYnhrg-HxvA",
        "outputId": "f48d967a-b348-44f4-d9d7-4d39a4b50e89"
      },
      "source": [
        "len(data[data[\"sure_tral\"]==1].drop([\"sure_tral\"],axis=1))"
      ],
      "execution_count": 54,
      "outputs": [
        {
          "output_type": "execute_result",
          "data": {
            "text/plain": [
              "67309"
            ]
          },
          "metadata": {},
          "execution_count": 54
        }
      ]
    },
    {
      "cell_type": "code",
      "metadata": {
        "colab": {
          "base_uri": "https://localhost:8080/"
        },
        "id": "YJdBRPqqPOHm",
        "outputId": "228139c6-7683-43af-cb9d-7f7ef483b657"
      },
      "source": [
        "len(data[data[\"sure_tral\"]==0].drop([\"sure_tral\"],axis=1))"
      ],
      "execution_count": 55,
      "outputs": [
        {
          "output_type": "execute_result",
          "data": {
            "text/plain": [
              "3996710"
            ]
          },
          "metadata": {},
          "execution_count": 55
        }
      ]
    },
    {
      "cell_type": "code",
      "metadata": {
        "colab": {
          "base_uri": "https://localhost:8080/",
          "height": 399
        },
        "id": "wpLPGlL3Pp_J",
        "outputId": "2aeae7ef-0098-47f9-8c9c-7d8ed8745f93"
      },
      "source": [
        "df"
      ],
      "execution_count": 60,
      "outputs": [
        {
          "output_type": "execute_result",
          "data": {
            "text/html": [
              "<div>\n",
              "<style scoped>\n",
              "    .dataframe tbody tr th:only-of-type {\n",
              "        vertical-align: middle;\n",
              "    }\n",
              "\n",
              "    .dataframe tbody tr th {\n",
              "        vertical-align: top;\n",
              "    }\n",
              "\n",
              "    .dataframe thead th {\n",
              "        text-align: right;\n",
              "    }\n",
              "</style>\n",
              "<table border=\"1\" class=\"dataframe\">\n",
              "  <thead>\n",
              "    <tr style=\"text-align: right;\">\n",
              "      <th></th>\n",
              "      <th>latitude</th>\n",
              "      <th>longitude</th>\n",
              "      <th>course</th>\n",
              "      <th>velocity</th>\n",
              "      <th>time_in_sec</th>\n",
              "      <th>distance</th>\n",
              "      <th>delta_time</th>\n",
              "      <th>linear_speed</th>\n",
              "    </tr>\n",
              "  </thead>\n",
              "  <tbody>\n",
              "    <tr>\n",
              "      <th>0</th>\n",
              "      <td>-0.000009</td>\n",
              "      <td>-0.000048</td>\n",
              "      <td>269</td>\n",
              "      <td>0.0</td>\n",
              "      <td>1821</td>\n",
              "      <td>0.000000</td>\n",
              "      <td>1821</td>\n",
              "      <td>0.000000</td>\n",
              "    </tr>\n",
              "    <tr>\n",
              "      <th>1</th>\n",
              "      <td>0.000021</td>\n",
              "      <td>0.000012</td>\n",
              "      <td>245</td>\n",
              "      <td>0.0</td>\n",
              "      <td>5381</td>\n",
              "      <td>5.466741</td>\n",
              "      <td>3560</td>\n",
              "      <td>0.001536</td>\n",
              "    </tr>\n",
              "    <tr>\n",
              "      <th>2</th>\n",
              "      <td>0.000001</td>\n",
              "      <td>0.000002</td>\n",
              "      <td>288</td>\n",
              "      <td>0.0</td>\n",
              "      <td>8780</td>\n",
              "      <td>2.684734</td>\n",
              "      <td>3399</td>\n",
              "      <td>0.000790</td>\n",
              "    </tr>\n",
              "    <tr>\n",
              "      <th>3</th>\n",
              "      <td>-0.000009</td>\n",
              "      <td>-0.000018</td>\n",
              "      <td>207</td>\n",
              "      <td>0.0</td>\n",
              "      <td>13751</td>\n",
              "      <td>0.231358</td>\n",
              "      <td>4971</td>\n",
              "      <td>0.000047</td>\n",
              "    </tr>\n",
              "    <tr>\n",
              "      <th>4</th>\n",
              "      <td>0.000041</td>\n",
              "      <td>0.000002</td>\n",
              "      <td>112</td>\n",
              "      <td>0.0</td>\n",
              "      <td>16170</td>\n",
              "      <td>2.258584</td>\n",
              "      <td>2419</td>\n",
              "      <td>0.000934</td>\n",
              "    </tr>\n",
              "    <tr>\n",
              "      <th>...</th>\n",
              "      <td>...</td>\n",
              "      <td>...</td>\n",
              "      <td>...</td>\n",
              "      <td>...</td>\n",
              "      <td>...</td>\n",
              "      <td>...</td>\n",
              "      <td>...</td>\n",
              "      <td>...</td>\n",
              "    </tr>\n",
              "    <tr>\n",
              "      <th>19995</th>\n",
              "      <td>-0.057125</td>\n",
              "      <td>-0.085850</td>\n",
              "      <td>43</td>\n",
              "      <td>2.3</td>\n",
              "      <td>29014</td>\n",
              "      <td>15876.146231</td>\n",
              "      <td>3441</td>\n",
              "      <td>4.613818</td>\n",
              "    </tr>\n",
              "    <tr>\n",
              "      <th>19996</th>\n",
              "      <td>-0.056035</td>\n",
              "      <td>-0.084230</td>\n",
              "      <td>43</td>\n",
              "      <td>2.3</td>\n",
              "      <td>29155</td>\n",
              "      <td>11455.584403</td>\n",
              "      <td>141</td>\n",
              "      <td>81.245279</td>\n",
              "    </tr>\n",
              "    <tr>\n",
              "      <th>19997</th>\n",
              "      <td>-0.029105</td>\n",
              "      <td>-0.043490</td>\n",
              "      <td>45</td>\n",
              "      <td>2.4</td>\n",
              "      <td>32614</td>\n",
              "      <td>11238.681520</td>\n",
              "      <td>3459</td>\n",
              "      <td>3.249113</td>\n",
              "    </tr>\n",
              "    <tr>\n",
              "      <th>19998</th>\n",
              "      <td>-0.028005</td>\n",
              "      <td>-0.042040</td>\n",
              "      <td>44</td>\n",
              "      <td>2.3</td>\n",
              "      <td>32744</td>\n",
              "      <td>5813.349993</td>\n",
              "      <td>130</td>\n",
              "      <td>44.718077</td>\n",
              "    </tr>\n",
              "    <tr>\n",
              "      <th>19999</th>\n",
              "      <td>0.002715</td>\n",
              "      <td>-0.003150</td>\n",
              "      <td>42</td>\n",
              "      <td>2.5</td>\n",
              "      <td>36224</td>\n",
              "      <td>5611.605147</td>\n",
              "      <td>3480</td>\n",
              "      <td>1.612530</td>\n",
              "    </tr>\n",
              "  </tbody>\n",
              "</table>\n",
              "<p>20000 rows × 8 columns</p>\n",
              "</div>"
            ],
            "text/plain": [
              "       latitude  longitude  course  ...      distance  delta_time  linear_speed\n",
              "0     -0.000009  -0.000048     269  ...      0.000000        1821      0.000000\n",
              "1      0.000021   0.000012     245  ...      5.466741        3560      0.001536\n",
              "2      0.000001   0.000002     288  ...      2.684734        3399      0.000790\n",
              "3     -0.000009  -0.000018     207  ...      0.231358        4971      0.000047\n",
              "4      0.000041   0.000002     112  ...      2.258584        2419      0.000934\n",
              "...         ...        ...     ...  ...           ...         ...           ...\n",
              "19995 -0.057125  -0.085850      43  ...  15876.146231        3441      4.613818\n",
              "19996 -0.056035  -0.084230      43  ...  11455.584403         141     81.245279\n",
              "19997 -0.029105  -0.043490      45  ...  11238.681520        3459      3.249113\n",
              "19998 -0.028005  -0.042040      44  ...   5813.349993         130     44.718077\n",
              "19999  0.002715  -0.003150      42  ...   5611.605147        3480      1.612530\n",
              "\n",
              "[20000 rows x 8 columns]"
            ]
          },
          "metadata": {},
          "execution_count": 60
        }
      ]
    },
    {
      "cell_type": "code",
      "metadata": {
        "colab": {
          "base_uri": "https://localhost:8080/"
        },
        "id": "y-WB8BiJ-sI2",
        "outputId": "43f428a9-19b2-4a6c-c202-36e50ebce951"
      },
      "source": [
        "df=pd.concat([data[data[\"sure_tral\"]==0].drop([\"sure_tral\",\"record\"],axis=1)[:10000],data[data[\"sure_tral\"]==1].drop([\"sure_tral\",\"record\"],axis=1)[:10000]],ignore_index=True)\n",
        "clf = RandomForestClassifier(max_depth=2, random_state=0)\n",
        "clf.fit(df, [0]*10000+[1]*10000)"
      ],
      "execution_count": 61,
      "outputs": [
        {
          "output_type": "execute_result",
          "data": {
            "text/plain": [
              "RandomForestClassifier(bootstrap=True, ccp_alpha=0.0, class_weight=None,\n",
              "                       criterion='gini', max_depth=2, max_features='auto',\n",
              "                       max_leaf_nodes=None, max_samples=None,\n",
              "                       min_impurity_decrease=0.0, min_impurity_split=None,\n",
              "                       min_samples_leaf=1, min_samples_split=2,\n",
              "                       min_weight_fraction_leaf=0.0, n_estimators=100,\n",
              "                       n_jobs=None, oob_score=False, random_state=0, verbose=0,\n",
              "                       warm_start=False)"
            ]
          },
          "metadata": {},
          "execution_count": 61
        }
      ]
    },
    {
      "cell_type": "code",
      "metadata": {
        "colab": {
          "base_uri": "https://localhost:8080/"
        },
        "id": "wQzYM8yqIu-7",
        "outputId": "248bd1a3-9c0e-420f-9243-2e63ed0e720f"
      },
      "source": [
        "list(clf.predict(data[data[\"sure_tral\"]==0].drop([\"sure_tral\",\"record\"],axis=1)[:1000000])).count(1)"
      ],
      "execution_count": 74,
      "outputs": [
        {
          "output_type": "execute_result",
          "data": {
            "text/plain": [
              "34111"
            ]
          },
          "metadata": {},
          "execution_count": 74
        }
      ]
    },
    {
      "cell_type": "code",
      "metadata": {
        "id": "6uOiwqI8YDSB"
      },
      "source": [
        "import pandas as pd \n",
        "import numpy as np \n",
        "import datetime as dt\n",
        "from datetime import datetime\n",
        "import geopy\n",
        "from geopy import distance\n",
        "pd.options.display.max_rows = 10000\n",
        "import math\n",
        "\n",
        "\n",
        "class functions_for_obrabotchic():\n",
        "    ### дистанция между коорд\n",
        "    def distance(row):\n",
        "        coords_1 = (0,0)\n",
        "        if row['ship'] == row['next_ship']:\n",
        "            coords_2 = (row['next_lat'],row['next_lon'])\n",
        "        else: \n",
        "            coords_2 = (0,0)\n",
        "        distance = geopy.distance.geodesic(coords_1, coords_2).m\n",
        "        return distance\n",
        "\n",
        "    ### Время в секундах\n",
        "    def time_to_sec(timestring):\n",
        "      try:\n",
        "        pt = datetime.strptime(timestring, '%H:%M:%S')\n",
        "        total_seconds = pt.second + pt.minute*60 + pt.hour*3600\n",
        "        return total_seconds\n",
        "      except:\n",
        "        return 0\n",
        "    ### Средняя линейная скорость\n",
        "    def linear_speed(row):\n",
        "        if row['ship'] == row['next_ship']:\n",
        "            if row['delta_time'] != 0:\n",
        "                speed = row['distance'] / row['delta_time']\n",
        "            else:\n",
        "                speed = 0\n",
        "        else:\n",
        "                speed = 0\n",
        "        return abs(speed) \n",
        "    def delta_time(row):\n",
        "        if row['ship'] == row['next_ship'] or row['next_record'] == row['record']:\n",
        "            delta = row['next_time'] - row['time_in_sec']\n",
        "        else: \n",
        "            delta = row['time_in_sec']\n",
        "        return abs(delta)\n",
        "\n",
        "### Path до csv файла\n",
        "\n",
        "def obrabotchic(path_to_csv):\n",
        "    data = pd.read_csv(path_to_csv)\n",
        "    data = data.dropna(subset=['ship', 'record','time'])\n",
        "    data[['course', 'velocity']] = data[['course', 'velocity']].fillna(value=0)\n",
        "    data[['course', 'velocity']] = data[['course', 'velocity']].replace(np.nan, 0)\n",
        "    data[['course', 'velocity']] = data[['course', 'velocity']].replace('None', 0)\n",
        "    data['time_in_sec'] =  data['time'].apply(lambda x: functions_for_obrabotchic.time_to_sec(x))\n",
        "    data = data.sort_values(by=['ship', 'record', 'time_in_sec'])\n",
        "    next_lat = data['latitude'].to_list()\n",
        "    next_lon = data['longitude'].to_list()\n",
        "    next_record = data['record'].to_list()\n",
        "    next_record.pop(-1)\n",
        "    next_lat.pop(-1)\n",
        "    next_lon.pop(-1)\n",
        "    next_record.insert(0, 1)\n",
        "    next_lon.insert(0, 0)\n",
        "    next_lat.insert(0, 0)\n",
        "    data['next_record'] = next_record\n",
        "    data['next_lat'] = next_lat\n",
        "    data['next_lon'] = next_lon\n",
        "    next_time = data['time_in_sec'].to_list()\n",
        "    next_ship = data['ship'].to_list()\n",
        "    next_time.pop(-1)\n",
        "    next_ship.pop(-1)\n",
        "    next_time.insert(0, 0)\n",
        "    next_ship.insert(0, 1)\n",
        "    data['next_time'] = next_time\n",
        "    data['next_ship'] = next_ship\n",
        "    data['distance'] = data.apply(lambda row: functions_for_obrabotchic.distance(row), axis=1)\n",
        "    data['delta_time'] = data.apply(lambda row: functions_for_obrabotchic.delta_time(row), axis=1)\n",
        "    data['linear_speed'] = data.apply(lambda row: functions_for_obrabotchic.linear_speed(row), axis=1)\n",
        "    del data['next_lat']\n",
        "    del data['next_lon']\n",
        "    del data['next_ship']\n",
        "    del data['next_time']\n",
        "    del data['time']\n",
        "    del data['next_record']\n",
        "    new_angles=[0]*len(data.index)\n",
        "    for i,ind in enumerate(data.index):\n",
        "      base_angle = math.atan(data[\"latitude\"][ind]/data[\"longitude\"][ind])*57.2958\n",
        "      bow_angle=int(data[\"course\"][ind])\n",
        "      new_angles[i] = (bow_angle-base_angle)%360\n",
        "    data.assign(angle=new_angles)\n",
        "    data['latitude'] = pd.to_numeric(data['latitude'] )\n",
        "    data['longitude'] = pd.to_numeric(data['longitude'] )\n",
        "    data.to_csv('new_best_data.csv',index=False)\n",
        "    return data"
      ],
      "execution_count": 9,
      "outputs": []
    },
    {
      "cell_type": "code",
      "metadata": {
        "id": "LA2aUOIWUeP-"
      },
      "source": [
        ""
      ],
      "execution_count": 10,
      "outputs": []
    },
    {
      "cell_type": "code",
      "metadata": {
        "colab": {
          "base_uri": "https://localhost:8080/"
        },
        "id": "CkMAcViBYNHu",
        "outputId": "4517eb20-af81-47ed-eb56-c9a3daa44437"
      },
      "source": [
        "data=obrabotchic(\"/content/control.csv\")"
      ],
      "execution_count": 11,
      "outputs": [
        {
          "output_type": "stream",
          "name": "stderr",
          "text": [
            "/usr/local/lib/python3.7/dist-packages/ipykernel_launcher.py:88: RuntimeWarning: divide by zero encountered in double_scalars\n"
          ]
        }
      ]
    },
    {
      "cell_type": "code",
      "metadata": {
        "id": "SCDfNGOvVNts"
      },
      "source": [
        "with open('/content/RF.pd', 'wb') as f:\n",
        "    pickle.dump(clf, f)\n"
      ],
      "execution_count": 79,
      "outputs": []
    },
    {
      "cell_type": "code",
      "metadata": {
        "id": "1_-E6_clViFG"
      },
      "source": [
        "with open('/content/RF.pd', 'rb') as f:\n",
        "    rf = pickle.load(f)"
      ],
      "execution_count": 12,
      "outputs": []
    },
    {
      "cell_type": "code",
      "metadata": {
        "id": "bmDMjol7pp5M"
      },
      "source": [
        "del data[\"ship\"]"
      ],
      "execution_count": 15,
      "outputs": []
    },
    {
      "cell_type": "code",
      "metadata": {
        "id": "23lOaeU8qvUM"
      },
      "source": [
        "records=sorted(list(set(data.record)))"
      ],
      "execution_count": 21,
      "outputs": []
    },
    {
      "cell_type": "code",
      "metadata": {
        "colab": {
          "base_uri": "https://localhost:8080/"
        },
        "id": "s6FsT9X3sCk3",
        "outputId": "74a6dbc6-fe27-48b9-d644-969806c68f43"
      },
      "source": [
        "records[:10]"
      ],
      "execution_count": 26,
      "outputs": [
        {
          "output_type": "execute_result",
          "data": {
            "text/plain": [
              "[28897, 28898, 28899, 28900, 28901, 28902, 28903, 28904, 28905, 28906]"
            ]
          },
          "metadata": {},
          "execution_count": 26
        }
      ]
    },
    {
      "cell_type": "code",
      "metadata": {
        "id": "SaqTPpUfqABQ"
      },
      "source": [
        "data.to_csv(\"control_final.csv\",index=False)"
      ],
      "execution_count": 18,
      "outputs": []
    },
    {
      "cell_type": "code",
      "metadata": {
        "id": "EyR5fVFsrG8y"
      },
      "source": [
        "dfs=dict(zip(records,[data[data[\"record\"]==i].drop([\"record\"],axis=1) for i in records]))"
      ],
      "execution_count": 29,
      "outputs": []
    },
    {
      "cell_type": "code",
      "metadata": {
        "id": "1-7QBJhfYl-c"
      },
      "source": [
        "pvreds = dict(zip(records,[rf.predict(dfs[i]) for i in records]))"
      ],
      "execution_count": 33,
      "outputs": []
    },
    {
      "cell_type": "code",
      "metadata": {
        "id": "0hii1VxgtKva"
      },
      "source": [
        "for i in records:\n",
        "  pvreds[i]= list(pvreds[i]).count(1)/len(pvreds[i])"
      ],
      "execution_count": 35,
      "outputs": []
    },
    {
      "cell_type": "code",
      "metadata": {
        "id": "QbN2-XhWwSM2"
      },
      "source": [
        "pred_diskr=dict(zip(records,[1 if pvreds[i]>0.75 else 0 for i in pvreds.keys()]))"
      ],
      "execution_count": 40,
      "outputs": []
    },
    {
      "cell_type": "code",
      "metadata": {
        "id": "jnvBkPcg0A2y"
      },
      "source": [
        "file = open(\"test.txt\", \"w\")\n",
        "for i in pred_diskr:\n",
        "  file.write(str(i)+\" \"+str(pred_diskr[i])+\"\\n\")\n",
        "file.close()"
      ],
      "execution_count": 48,
      "outputs": []
    },
    {
      "cell_type": "code",
      "metadata": {
        "colab": {
          "base_uri": "https://localhost:8080/"
        },
        "id": "A6j7nh-jwR-_",
        "outputId": "f6c2405f-af88-407c-81cd-ebb8d1aa849b"
      },
      "source": [
        "list(pred_diskr.values()).count(0)"
      ],
      "execution_count": 42,
      "outputs": [
        {
          "output_type": "execute_result",
          "data": {
            "text/plain": [
              "4448"
            ]
          },
          "metadata": {},
          "execution_count": 42
        }
      ]
    },
    {
      "cell_type": "code",
      "metadata": {
        "colab": {
          "base_uri": "https://localhost:8080/"
        },
        "id": "tUWGll-vxf0M",
        "outputId": "d4c8c4ee-3871-4bae-e75d-fb8c4edf7f33"
      },
      "source": [
        "list(pred_diskr.values()).count(1)"
      ],
      "execution_count": 43,
      "outputs": [
        {
          "output_type": "execute_result",
          "data": {
            "text/plain": [
              "672"
            ]
          },
          "metadata": {},
          "execution_count": 43
        }
      ]
    },
    {
      "cell_type": "code",
      "metadata": {
        "colab": {
          "base_uri": "https://localhost:8080/"
        },
        "id": "5Bd4gBF6V6T_",
        "outputId": "aed7a85d-5455-43d2-c023-056126b670c1"
      },
      "source": [
        "list(preds).count(0)"
      ],
      "execution_count": 87,
      "outputs": [
        {
          "output_type": "execute_result",
          "data": {
            "text/plain": [
              "16475"
            ]
          },
          "metadata": {},
          "execution_count": 87
        }
      ]
    },
    {
      "cell_type": "code",
      "metadata": {
        "colab": {
          "base_uri": "https://localhost:8080/"
        },
        "id": "pMvhJJVnMO4c",
        "outputId": "bdd27152-90d7-4f43-9301-cc3c45ba7c6f"
      },
      "source": [
        "list(clf.predict(data[data[\"sure_tral\"]==1].drop([\"sure_tral\",\"record\"],axis=1)[:50000])).count(0)"
      ],
      "execution_count": 69,
      "outputs": [
        {
          "output_type": "execute_result",
          "data": {
            "text/plain": [
              "16475"
            ]
          },
          "metadata": {},
          "execution_count": 69
        }
      ]
    },
    {
      "cell_type": "code",
      "metadata": {
        "id": "dt5m0fUIQ7h-"
      },
      "source": [
        "Precision=(50000-16475)/((50000-16475)+16475)\n",
        "Recall=(50000-16475)/((50000-16475)+2309)"
      ],
      "execution_count": 70,
      "outputs": []
    },
    {
      "cell_type": "code",
      "metadata": {
        "colab": {
          "base_uri": "https://localhost:8080/"
        },
        "id": "QRahxw_XRiaN",
        "outputId": "d0dfb929-be72-44f7-9e6a-0989420a7eec"
      },
      "source": [
        "2*(Precision*Recall/(Precision+Recall))"
      ],
      "execution_count": 72,
      "outputs": [
        {
          "output_type": "execute_result",
          "data": {
            "text/plain": [
              "0.7811589812894658"
            ]
          },
          "metadata": {},
          "execution_count": 72
        }
      ]
    },
    {
      "cell_type": "code",
      "metadata": {
        "id": "gUbkCY9I4y2M"
      },
      "source": [
        "len(data_tensors[0][1])"
      ],
      "execution_count": null,
      "outputs": []
    },
    {
      "cell_type": "code",
      "metadata": {
        "id": "T0o_voAwkLTT"
      },
      "source": [
        "print(set(map(len,data_tensors)))"
      ],
      "execution_count": null,
      "outputs": []
    },
    {
      "cell_type": "code",
      "metadata": {
        "id": "UxHF1FTy4Sgp"
      },
      "source": [
        "len(data_tensors[2][1])"
      ],
      "execution_count": null,
      "outputs": []
    },
    {
      "cell_type": "code",
      "metadata": {
        "id": "tebvnRGYev00"
      },
      "source": [
        ""
      ],
      "execution_count": null,
      "outputs": []
    }
  ]
}